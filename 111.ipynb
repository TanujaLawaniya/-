{
  "nbformat": 4,
  "nbformat_minor": 0,
  "metadata": {
    "colab": {
      "name": "Untitled0.ipynb",
      "provenance": [],
      "authorship_tag": "ABX9TyOu1i0ZlxlsGTmmnvMV+Hbl",
      "include_colab_link": true
    },
    "kernelspec": {
      "name": "python3",
      "display_name": "Python 3"
    },
    "language_info": {
      "name": "python"
    }
  },
  "cells": [
    {
      "cell_type": "markdown",
      "metadata": {
        "id": "view-in-github",
        "colab_type": "text"
      },
      "source": [
        "<a href=\"https://colab.research.google.com/github/TanujaLawaniya/-/blob/main/111.ipynb\" target=\"_parent\"><img src=\"https://colab.research.google.com/assets/colab-badge.svg\" alt=\"Open In Colab\"/></a>"
      ]
    },
    {
      "cell_type": "code",
      "metadata": {
        "colab": {
          "base_uri": "https://localhost:8080/"
        },
        "id": "-l7LP_e-eX_u",
        "outputId": "4f828636-1aa1-4229-f32f-1925280e2ecc"
      },
      "source": [
        "print(\"hello\")"
      ],
      "execution_count": 1,
      "outputs": [
        {
          "output_type": "stream",
          "text": [
            "hello\n"
          ],
          "name": "stdout"
        }
      ]
    },
    {
      "cell_type": "code",
      "metadata": {
        "id": "qQHwuPaNe8V9"
      },
      "source": [
        "import plotly.express as px\n",
        "import pandas as pd\n",
        "import statistics"
      ],
      "execution_count": 5,
      "outputs": []
    },
    {
      "cell_type": "code",
      "metadata": {
        "id": "yXfhQGm8fbkm"
      },
      "source": [
        "from google.colab import files\n",
        "data_to_load = files.upload()"
      ],
      "execution_count": null,
      "outputs": []
    },
    {
      "cell_type": "code",
      "metadata": {
        "id": "JxluvZAnfqET"
      },
      "source": [
        "df =pd.read_csv(\"savings_data_final.csv\")\n",
        "fig = px.scatter(df,y=\"quant_saved\",color=\"rem_any\")\n",
        "fig.show()"
      ],
      "execution_count": null,
      "outputs": []
    },
    {
      "cell_type": "code",
      "metadata": {
        "id": "CtBzHflwgJuV"
      },
      "source": [
        "import csv\n",
        "with open('savings_data_final.csv',newline=\"\") as f:\n",
        " reader = csv.reader(f)\n",
        " savings_data = list(reader)\n",
        "savings_data.pop(0)\n",
        "\n",
        "total_entries = len(savings_data)\n",
        "total_people_given_reminder = 0\n",
        "for data in savings_data:\n",
        " if int(data[3]) == 1:\n",
        "  total_people_given_reminder +=1\n",
        "import plotly.graph_objects as go\n",
        "fig =go.Figure(go.Bar(x=[\"Reminded\",\"Not Reminded\"],y=[total_people_given_reminder,(total_entries-total_people_given_reminder)]))\n",
        "fig.show()"
      ],
      "execution_count": null,
      "outputs": []
    },
    {
      "cell_type": "code",
      "metadata": {
        "id": "rSQKrVWRhSml"
      },
      "source": [
        "all_savings = []\n",
        "for data in savings_data:\n",
        " all_savings.append(float(data[0]))\n",
        "print(f\"Mean of savings -{statistics.mean(all_savings)}\")\n",
        "print(f\"Median of savings -{statistics.median(all_savings)}\")\n",
        "print(f\"Mode of savings -{statistics.mode(all_savings)}\")"
      ],
      "execution_count": null,
      "outputs": []
    },
    {
      "cell_type": "code",
      "metadata": {
        "id": "1xPQGhxvh8iP"
      },
      "source": [
        "reminded_savings = []\n",
        "not_reminded_savings = []\n",
        "for data in savings_data:\n",
        " if int(data[3]) == 1:\n",
        "   reminded_savings.append(float(data[0]))\n",
        " else:\n",
        "   not_reminded_savings.append(float(data[0]))\n",
        "print(\"Results for people who were reminded to save\")\n",
        "print(f\"Mean of savings -{statistics.mean(reminded_savings)}\")\n",
        "print(f\"Median of savings -{statistics.median(reminded_savings)}\")\n",
        "print(f\"Mode of savings -{statistics.mode(reminded_savings)}\")\n",
        "#To add new lines\n",
        "print(\"\\n\\n\")\n",
        "print(\"Results for people who were not reminded to save\")\n",
        "print(f\"Mean of savings -{statistics.mean(not_reminded_savings)}\")\n",
        "print(f\"Median of savings -{statistics.median(not_reminded_savings)}\")\n",
        "print(f\"Mode of savings -{statistics.mode(not_reminded_savings)}\")"
      ],
      "execution_count": null,
      "outputs": []
    },
    {
      "cell_type": "code",
      "metadata": {
        "id": "9eoq7yJjiVR1"
      },
      "source": [
        "#Standard Deviation\n",
        "print(f\"Standard deviation of all thedata ->{statistics.stdev(all_savings)}\")\n",
        "print(f\"Standard deviation ofpeople who were reminded ->{statistics.stdev(reminded_savings)}\")\n",
        "print(f\"Standard deviation ofpeople who were not reminded ->{statistics.stdev(not_reminded_savings)}\")\n"
      ],
      "execution_count": null,
      "outputs": []
    },
    {
      "cell_type": "code",
      "metadata": {
        "id": "RmjPai_vig6S"
      },
      "source": [
        "import numpy as np\n",
        "age = []\n",
        "savings = []\n",
        "for data in savings_data:\n",
        " if float(data[5]) != 0:\n",
        "   age.append(float(data[5]))\n",
        "   savings.append(float(data[0]))\n",
        "correlation = np.corrcoef(age,savings)\n",
        "print(f\"Correlation between the age of the person and their savings is - {correlation[0,1]}\")\n"
      ],
      "execution_count": null,
      "outputs": []
    },
    {
      "cell_type": "code",
      "metadata": {
        "id": "QT13JWaNivSC"
      },
      "source": [
        "import plotly.figure_factory as ff\n",
        "fig =ff.create_distplot([df[\"quant_saved\"].tolist()], [\"Savings\"],show_hist=False)\n",
        "fig.show()"
      ],
      "execution_count": null,
      "outputs": []
    }
  ]
}